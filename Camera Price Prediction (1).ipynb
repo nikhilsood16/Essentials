{
 "cells": [
  {
   "cell_type": "markdown",
   "id": "60aa2d16",
   "metadata": {},
   "source": [
    "# Objective\n",
    "\n",
    "* To identify which variable have more impact on price of camera\n",
    "\n",
    "* To build the Model which will help to Predict the Price of camera based on Various parameter ( independent Variable ) "
   ]
  },
  {
   "cell_type": "code",
   "execution_count": 358,
   "id": "3ba0768c",
   "metadata": {},
   "outputs": [],
   "source": [
    "import pandas as pd\n",
    "import numpy as np\n",
    "import warnings\n",
    "warnings.filterwarnings(\"ignore\")"
   ]
  },
  {
   "cell_type": "code",
   "execution_count": 359,
   "id": "bc3f8649",
   "metadata": {},
   "outputs": [
    {
     "name": "stdout",
     "output_type": "stream",
     "text": [
      "<class 'pandas.core.frame.DataFrame'>\n",
      "RangeIndex: 161 entries, 0 to 160\n",
      "Data columns (total 13 columns):\n",
      " #   Column           Non-Null Count  Dtype  \n",
      "---  ------           --------------  -----  \n",
      " 0   Price            161 non-null    int64  \n",
      " 1   Sale             161 non-null    int64  \n",
      " 2   weight           161 non-null    float64\n",
      " 3   resolution       161 non-null    float64\n",
      " 4   ppi              161 non-null    int64  \n",
      " 5   cpu core         161 non-null    int64  \n",
      " 6   cpu freq         161 non-null    float64\n",
      " 7   internal memory  161 non-null    float64\n",
      " 8   ram              161 non-null    float64\n",
      " 9   Rear_Cam         161 non-null    float64\n",
      " 10  Front_Cam        161 non-null    float64\n",
      " 11  battery          161 non-null    int64  \n",
      " 12  thickness        161 non-null    float64\n",
      "dtypes: float64(8), int64(5)\n",
      "memory usage: 16.5 KB\n"
     ]
    }
   ],
   "source": [
    "df = pd.read_csv(r\"C:\\Users\\nikhi\\Downloads\\Cellphone.csv\")\n",
    "df.info()"
   ]
  },
  {
   "cell_type": "code",
   "execution_count": 360,
   "id": "3196e8ce",
   "metadata": {},
   "outputs": [
    {
     "data": {
      "text/html": [
       "<div>\n",
       "<style scoped>\n",
       "    .dataframe tbody tr th:only-of-type {\n",
       "        vertical-align: middle;\n",
       "    }\n",
       "\n",
       "    .dataframe tbody tr th {\n",
       "        vertical-align: top;\n",
       "    }\n",
       "\n",
       "    .dataframe thead th {\n",
       "        text-align: right;\n",
       "    }\n",
       "</style>\n",
       "<table border=\"1\" class=\"dataframe\">\n",
       "  <thead>\n",
       "    <tr style=\"text-align: right;\">\n",
       "      <th></th>\n",
       "      <th>Price</th>\n",
       "      <th>Sale</th>\n",
       "      <th>weight</th>\n",
       "      <th>resolution</th>\n",
       "      <th>ppi</th>\n",
       "      <th>cpu core</th>\n",
       "      <th>cpu freq</th>\n",
       "      <th>internal memory</th>\n",
       "      <th>ram</th>\n",
       "      <th>Rear_Cam</th>\n",
       "      <th>Front_Cam</th>\n",
       "      <th>battery</th>\n",
       "      <th>thickness</th>\n",
       "    </tr>\n",
       "  </thead>\n",
       "  <tbody>\n",
       "    <tr>\n",
       "      <th>0</th>\n",
       "      <td>2357</td>\n",
       "      <td>10</td>\n",
       "      <td>135.0</td>\n",
       "      <td>5.2</td>\n",
       "      <td>424</td>\n",
       "      <td>8</td>\n",
       "      <td>1.35</td>\n",
       "      <td>16.0</td>\n",
       "      <td>3.000</td>\n",
       "      <td>13.00</td>\n",
       "      <td>8.0</td>\n",
       "      <td>2610</td>\n",
       "      <td>7.4</td>\n",
       "    </tr>\n",
       "    <tr>\n",
       "      <th>1</th>\n",
       "      <td>1749</td>\n",
       "      <td>10</td>\n",
       "      <td>125.0</td>\n",
       "      <td>4.0</td>\n",
       "      <td>233</td>\n",
       "      <td>2</td>\n",
       "      <td>1.30</td>\n",
       "      <td>4.0</td>\n",
       "      <td>1.000</td>\n",
       "      <td>3.15</td>\n",
       "      <td>0.0</td>\n",
       "      <td>1700</td>\n",
       "      <td>9.9</td>\n",
       "    </tr>\n",
       "    <tr>\n",
       "      <th>2</th>\n",
       "      <td>1916</td>\n",
       "      <td>10</td>\n",
       "      <td>110.0</td>\n",
       "      <td>4.7</td>\n",
       "      <td>312</td>\n",
       "      <td>4</td>\n",
       "      <td>1.20</td>\n",
       "      <td>8.0</td>\n",
       "      <td>1.500</td>\n",
       "      <td>13.00</td>\n",
       "      <td>5.0</td>\n",
       "      <td>2000</td>\n",
       "      <td>7.6</td>\n",
       "    </tr>\n",
       "    <tr>\n",
       "      <th>3</th>\n",
       "      <td>1315</td>\n",
       "      <td>11</td>\n",
       "      <td>118.5</td>\n",
       "      <td>4.0</td>\n",
       "      <td>233</td>\n",
       "      <td>2</td>\n",
       "      <td>1.30</td>\n",
       "      <td>4.0</td>\n",
       "      <td>0.512</td>\n",
       "      <td>3.15</td>\n",
       "      <td>0.0</td>\n",
       "      <td>1400</td>\n",
       "      <td>11.0</td>\n",
       "    </tr>\n",
       "    <tr>\n",
       "      <th>4</th>\n",
       "      <td>1749</td>\n",
       "      <td>11</td>\n",
       "      <td>125.0</td>\n",
       "      <td>4.0</td>\n",
       "      <td>233</td>\n",
       "      <td>2</td>\n",
       "      <td>1.30</td>\n",
       "      <td>4.0</td>\n",
       "      <td>1.000</td>\n",
       "      <td>3.15</td>\n",
       "      <td>0.0</td>\n",
       "      <td>1700</td>\n",
       "      <td>9.9</td>\n",
       "    </tr>\n",
       "  </tbody>\n",
       "</table>\n",
       "</div>"
      ],
      "text/plain": [
       "   Price  Sale  weight  resolution  ppi  cpu core  cpu freq  internal memory  \\\n",
       "0   2357    10   135.0         5.2  424         8      1.35             16.0   \n",
       "1   1749    10   125.0         4.0  233         2      1.30              4.0   \n",
       "2   1916    10   110.0         4.7  312         4      1.20              8.0   \n",
       "3   1315    11   118.5         4.0  233         2      1.30              4.0   \n",
       "4   1749    11   125.0         4.0  233         2      1.30              4.0   \n",
       "\n",
       "     ram  Rear_Cam  Front_Cam  battery  thickness  \n",
       "0  3.000     13.00        8.0     2610        7.4  \n",
       "1  1.000      3.15        0.0     1700        9.9  \n",
       "2  1.500     13.00        5.0     2000        7.6  \n",
       "3  0.512      3.15        0.0     1400       11.0  \n",
       "4  1.000      3.15        0.0     1700        9.9  "
      ]
     },
     "execution_count": 360,
     "metadata": {},
     "output_type": "execute_result"
    }
   ],
   "source": [
    "df.head()"
   ]
  },
  {
   "cell_type": "markdown",
   "id": "b7067ab8",
   "metadata": {},
   "source": [
    "# EDA\n",
    "\n",
    "\n",
    "\n",
    "\n"
   ]
  },
  {
   "cell_type": "markdown",
   "id": "82d86aa4",
   "metadata": {},
   "source": [
    "# Missing Values"
   ]
  },
  {
   "cell_type": "code",
   "execution_count": 361,
   "id": "08a43d37",
   "metadata": {
    "scrolled": true
   },
   "outputs": [
    {
     "data": {
      "text/plain": [
       "Price              0\n",
       "Sale               0\n",
       "weight             0\n",
       "resolution         0\n",
       "ppi                0\n",
       "cpu core           0\n",
       "cpu freq           0\n",
       "internal memory    0\n",
       "ram                0\n",
       "Rear_Cam           0\n",
       "Front_Cam          0\n",
       "battery            0\n",
       "thickness          0\n",
       "dtype: int64"
      ]
     },
     "execution_count": 361,
     "metadata": {},
     "output_type": "execute_result"
    }
   ],
   "source": [
    "df.isna().sum()"
   ]
  },
  {
   "cell_type": "markdown",
   "id": "4566839c",
   "metadata": {},
   "source": [
    "# Outlier"
   ]
  },
  {
   "cell_type": "code",
   "execution_count": 362,
   "id": "bcf8fef3",
   "metadata": {
    "scrolled": true
   },
   "outputs": [
    {
     "data": {
      "text/plain": [
       "<Axes: >"
      ]
     },
     "execution_count": 362,
     "metadata": {},
     "output_type": "execute_result"
    },
    {
     "data": {
      "image/png": "[encoded data removed]",
      "text/plain": [
       "<Figure size 640x480 with 1 Axes>"
      ]
     },
     "metadata": {},
     "output_type": "display_data"
    }
   ],
   "source": [
    "import seaborn as sns\n",
    "sns.boxplot(data=df)"
   ]
  },
  {
   "cell_type": "markdown",
   "id": "8e51b9f0",
   "metadata": {},
   "source": [
    "# Treatment of Outlier -- Winsorizing Technique"
   ]
  },
  {
   "cell_type": "code",
   "execution_count": 363,
   "id": "b3472ab8",
   "metadata": {},
   "outputs": [],
   "source": [
    "for i in df:                  # i = column name \n",
    "    if df[i].dtypes in (\"float64\",\"int64\"): # df[i] = every column will select float & int column only\n",
    "        q1 = df[i].quantile(0.25)  # for 1 column compute q1\n",
    "        q3 = df[i].quantile(0.75)  # for 1 column compute q3\n",
    "        iqr = q3-q1  # for 1 column compute IQR\n",
    "        ul = q3 + 1.5*iqr # for 1 column compute UPPER LIMIT\n",
    "        ll = q1 - 1.5*iqr # for 1 column compute LOWER LIMIT \n",
    "        df[i].clip(lower=ll,upper=ul,inplace=True)"
   ]
  },
  {
   "cell_type": "code",
   "execution_count": 364,
   "id": "0242eb49",
   "metadata": {
    "scrolled": true
   },
   "outputs": [
    {
     "data": {
      "text/plain": [
       "<Axes: >"
      ]
     },
     "execution_count": 364,
     "metadata": {},
     "output_type": "execute_result"
    },
    {
     "data": {
      "image/png": "[encoded data removed]",
      "text/plain": [
       "<Figure size 640x480 with 1 Axes>"
      ]
     },
     "metadata": {},
     "output_type": "display_data"
    }
   ],
   "source": [
    "import seaborn as sns\n",
    "sns.boxplot(data=df)"
   ]
  },
  {
   "cell_type": "markdown",
   "id": "f3bff4b4",
   "metadata": {},
   "source": [
    "# Data Partition"
   ]
  },
  {
   "cell_type": "code",
   "execution_count": 365,
   "id": "8581ed3c",
   "metadata": {},
   "outputs": [],
   "source": [
    "X = df.drop('Price', axis= 1)\n",
    "y = df[['Price']]\n",
    "\n",
    "from sklearn.model_selection import train_test_split\n",
    "X_train, X_test, y_train, y_test = train_test_split(X, y, train_size = 0.7 ,random_state=134)"
   ]
  },
  {
   "cell_type": "code",
   "execution_count": 366,
   "id": "b339b862",
   "metadata": {},
   "outputs": [],
   "source": [
    "from sklearn.preprocessing import MinMaxScaler\n",
    "sc = MinMaxScaler() \n",
    "cols_to_n = ['Price', 'weight', 'resolution', 'ppi', 'cpu core', 'cpu freq', 'internal memory', 'ram', 'Rear_Cam', 'Front_Cam', 'battery', 'thickness']\n",
    "df[cols_to_n] = sc.fit_transform(df[cols_to_n])"
   ]
  },
  {
   "cell_type": "code",
   "execution_count": 367,
   "id": "35f13371",
   "metadata": {
    "scrolled": true
   },
   "outputs": [
    {
     "data": {
      "text/html": [
       "<div>\n",
       "<style scoped>\n",
       "    .dataframe tbody tr th:only-of-type {\n",
       "        vertical-align: middle;\n",
       "    }\n",
       "\n",
       "    .dataframe tbody tr th {\n",
       "        vertical-align: top;\n",
       "    }\n",
       "\n",
       "    .dataframe thead th {\n",
       "        text-align: right;\n",
       "    }\n",
       "</style>\n",
       "<table border=\"1\" class=\"dataframe\">\n",
       "  <thead>\n",
       "    <tr style=\"text-align: right;\">\n",
       "      <th></th>\n",
       "      <th>Price</th>\n",
       "      <th>Sale</th>\n",
       "      <th>weight</th>\n",
       "      <th>resolution</th>\n",
       "      <th>ppi</th>\n",
       "      <th>cpu core</th>\n",
       "      <th>cpu freq</th>\n",
       "      <th>internal memory</th>\n",
       "      <th>ram</th>\n",
       "      <th>Rear_Cam</th>\n",
       "      <th>Front_Cam</th>\n",
       "      <th>battery</th>\n",
       "      <th>thickness</th>\n",
       "    </tr>\n",
       "  </thead>\n",
       "  <tbody>\n",
       "    <tr>\n",
       "      <th>132</th>\n",
       "      <td>2466</td>\n",
       "      <td>567.0</td>\n",
       "      <td>154.0</td>\n",
       "      <td>5.5</td>\n",
       "      <td>534.0</td>\n",
       "      <td>4</td>\n",
       "      <td>2.7</td>\n",
       "      <td>32.0</td>\n",
       "      <td>3.000</td>\n",
       "      <td>13.00</td>\n",
       "      <td>2.1</td>\n",
       "      <td>3000</td>\n",
       "      <td>9.1</td>\n",
       "    </tr>\n",
       "    <tr>\n",
       "      <th>142</th>\n",
       "      <td>2508</td>\n",
       "      <td>899.5</td>\n",
       "      <td>152.0</td>\n",
       "      <td>5.2</td>\n",
       "      <td>424.0</td>\n",
       "      <td>4</td>\n",
       "      <td>2.5</td>\n",
       "      <td>16.0</td>\n",
       "      <td>3.000</td>\n",
       "      <td>20.70</td>\n",
       "      <td>2.2</td>\n",
       "      <td>3100</td>\n",
       "      <td>7.3</td>\n",
       "    </tr>\n",
       "    <tr>\n",
       "      <th>143</th>\n",
       "      <td>2508</td>\n",
       "      <td>899.5</td>\n",
       "      <td>152.0</td>\n",
       "      <td>5.2</td>\n",
       "      <td>424.0</td>\n",
       "      <td>4</td>\n",
       "      <td>2.5</td>\n",
       "      <td>16.0</td>\n",
       "      <td>3.000</td>\n",
       "      <td>20.70</td>\n",
       "      <td>2.2</td>\n",
       "      <td>3100</td>\n",
       "      <td>7.3</td>\n",
       "    </tr>\n",
       "    <tr>\n",
       "      <th>117</th>\n",
       "      <td>3287</td>\n",
       "      <td>367.0</td>\n",
       "      <td>170.0</td>\n",
       "      <td>5.5</td>\n",
       "      <td>401.0</td>\n",
       "      <td>8</td>\n",
       "      <td>2.0</td>\n",
       "      <td>32.0</td>\n",
       "      <td>4.000</td>\n",
       "      <td>12.00</td>\n",
       "      <td>13.0</td>\n",
       "      <td>5000</td>\n",
       "      <td>8.0</td>\n",
       "    </tr>\n",
       "    <tr>\n",
       "      <th>8</th>\n",
       "      <td>1315</td>\n",
       "      <td>14.0</td>\n",
       "      <td>118.5</td>\n",
       "      <td>4.0</td>\n",
       "      <td>233.0</td>\n",
       "      <td>2</td>\n",
       "      <td>1.3</td>\n",
       "      <td>4.0</td>\n",
       "      <td>0.512</td>\n",
       "      <td>3.15</td>\n",
       "      <td>0.0</td>\n",
       "      <td>1400</td>\n",
       "      <td>11.0</td>\n",
       "    </tr>\n",
       "  </tbody>\n",
       "</table>\n",
       "</div>"
      ],
      "text/plain": [
       "     Price   Sale  weight  resolution    ppi  cpu core  cpu freq  \\\n",
       "132   2466  567.0   154.0         5.5  534.0         4       2.7   \n",
       "142   2508  899.5   152.0         5.2  424.0         4       2.5   \n",
       "143   2508  899.5   152.0         5.2  424.0         4       2.5   \n",
       "117   3287  367.0   170.0         5.5  401.0         8       2.0   \n",
       "8     1315   14.0   118.5         4.0  233.0         2       1.3   \n",
       "\n",
       "     internal memory    ram  Rear_Cam  Front_Cam  battery  thickness  \n",
       "132             32.0  3.000     13.00        2.1     3000        9.1  \n",
       "142             16.0  3.000     20.70        2.2     3100        7.3  \n",
       "143             16.0  3.000     20.70        2.2     3100        7.3  \n",
       "117             32.0  4.000     12.00       13.0     5000        8.0  \n",
       "8                4.0  0.512      3.15        0.0     1400       11.0  "
      ]
     },
     "execution_count": 367,
     "metadata": {},
     "output_type": "execute_result"
    }
   ],
   "source": [
    "train = pd.concat([y_train, X_train], axis=1)\n",
    "train.head()"
   ]
  },
  {
   "cell_type": "markdown",
   "id": "2b952d67",
   "metadata": {},
   "source": [
    "# Correlation"
   ]
  },
  {
   "cell_type": "code",
   "execution_count": 368,
   "id": "9d25446b",
   "metadata": {
    "scrolled": true
   },
   "outputs": [
    {
     "data": {
      "text/html": [
       "<style type=\"text/css\">\n",
       "#T_83646_row0_col0, #T_83646_row0_col4, #T_83646_row0_col6, #T_83646_row0_col7, #T_83646_row0_col8, #T_83646_row0_col9, #T_83646_row0_col10, #T_83646_row1_col1, #T_83646_row2_col2, #T_83646_row2_col3, #T_83646_row2_col11, #T_83646_row3_col2, #T_83646_row3_col3, #T_83646_row3_col11, #T_83646_row4_col0, #T_83646_row4_col4, #T_83646_row4_col6, #T_83646_row4_col7, #T_83646_row4_col8, #T_83646_row4_col9, #T_83646_row5_col5, #T_83646_row6_col0, #T_83646_row6_col4, #T_83646_row6_col6, #T_83646_row7_col0, #T_83646_row7_col4, #T_83646_row7_col7, #T_83646_row7_col8, #T_83646_row8_col0, #T_83646_row8_col4, #T_83646_row8_col7, #T_83646_row8_col8, #T_83646_row8_col10, #T_83646_row9_col0, #T_83646_row9_col4, #T_83646_row9_col9, #T_83646_row10_col0, #T_83646_row10_col8, #T_83646_row10_col10, #T_83646_row11_col2, #T_83646_row11_col3, #T_83646_row11_col11, #T_83646_row12_col12 {\n",
       "  background-color: cyan;\n",
       "}\n",
       "</style>\n",
       "<table id=\"T_83646\">\n",
       "  <thead>\n",
       "    <tr>\n",
       "      <th class=\"blank level0\" >&nbsp;</th>\n",
       "      <th id=\"T_83646_level0_col0\" class=\"col_heading level0 col0\" >Price</th>\n",
       "      <th id=\"T_83646_level0_col1\" class=\"col_heading level0 col1\" >Sale</th>\n",
       "      <th id=\"T_83646_level0_col2\" class=\"col_heading level0 col2\" >weight</th>\n",
       "      <th id=\"T_83646_level0_col3\" class=\"col_heading level0 col3\" >resolution</th>\n",
       "      <th id=\"T_83646_level0_col4\" class=\"col_heading level0 col4\" >ppi</th>\n",
       "      <th id=\"T_83646_level0_col5\" class=\"col_heading level0 col5\" >cpu core</th>\n",
       "      <th id=\"T_83646_level0_col6\" class=\"col_heading level0 col6\" >cpu freq</th>\n",
       "      <th id=\"T_83646_level0_col7\" class=\"col_heading level0 col7\" >internal memory</th>\n",
       "      <th id=\"T_83646_level0_col8\" class=\"col_heading level0 col8\" >ram</th>\n",
       "      <th id=\"T_83646_level0_col9\" class=\"col_heading level0 col9\" >Rear_Cam</th>\n",
       "      <th id=\"T_83646_level0_col10\" class=\"col_heading level0 col10\" >Front_Cam</th>\n",
       "      <th id=\"T_83646_level0_col11\" class=\"col_heading level0 col11\" >battery</th>\n",
       "      <th id=\"T_83646_level0_col12\" class=\"col_heading level0 col12\" >thickness</th>\n",
       "    </tr>\n",
       "  </thead>\n",
       "  <tbody>\n",
       "    <tr>\n",
       "      <th id=\"T_83646_level0_row0\" class=\"row_heading level0 row0\" >Price</th>\n",
       "      <td id=\"T_83646_row0_col0\" class=\"data row0 col0\" >1.000000</td>\n",
       "      <td id=\"T_83646_row0_col1\" class=\"data row0 col1\" >0.205009</td>\n",
       "      <td id=\"T_83646_row0_col2\" class=\"data row0 col2\" >0.458690</td>\n",
       "      <td id=\"T_83646_row0_col3\" class=\"data row0 col3\" >0.517247</td>\n",
       "      <td id=\"T_83646_row0_col4\" class=\"data row0 col4\" >0.835765</td>\n",
       "      <td id=\"T_83646_row0_col5\" class=\"data row0 col5\" >0.672025</td>\n",
       "      <td id=\"T_83646_row0_col6\" class=\"data row0 col6\" >0.718448</td>\n",
       "      <td id=\"T_83646_row0_col7\" class=\"data row0 col7\" >0.862825</td>\n",
       "      <td id=\"T_83646_row0_col8\" class=\"data row0 col8\" >0.918097</td>\n",
       "      <td id=\"T_83646_row0_col9\" class=\"data row0 col9\" >0.707871</td>\n",
       "      <td id=\"T_83646_row0_col10\" class=\"data row0 col10\" >0.720756</td>\n",
       "      <td id=\"T_83646_row0_col11\" class=\"data row0 col11\" >0.698594</td>\n",
       "      <td id=\"T_83646_row0_col12\" class=\"data row0 col12\" >-0.723390</td>\n",
       "    </tr>\n",
       "    <tr>\n",
       "      <th id=\"T_83646_level0_row1\" class=\"row_heading level0 row1\" >Sale</th>\n",
       "      <td id=\"T_83646_row1_col0\" class=\"data row1 col0\" >0.205009</td>\n",
       "      <td id=\"T_83646_row1_col1\" class=\"data row1 col1\" >1.000000</td>\n",
       "      <td id=\"T_83646_row1_col2\" class=\"data row1 col2\" >0.059708</td>\n",
       "      <td id=\"T_83646_row1_col3\" class=\"data row1 col3\" >0.014378</td>\n",
       "      <td id=\"T_83646_row1_col4\" class=\"data row1 col4\" >0.202512</td>\n",
       "      <td id=\"T_83646_row1_col5\" class=\"data row1 col5\" >0.069497</td>\n",
       "      <td id=\"T_83646_row1_col6\" class=\"data row1 col6\" >0.022947</td>\n",
       "      <td id=\"T_83646_row1_col7\" class=\"data row1 col7\" >0.264570</td>\n",
       "      <td id=\"T_83646_row1_col8\" class=\"data row1 col8\" >0.228897</td>\n",
       "      <td id=\"T_83646_row1_col9\" class=\"data row1 col9\" >0.167912</td>\n",
       "      <td id=\"T_83646_row1_col10\" class=\"data row1 col10\" >0.327488</td>\n",
       "      <td id=\"T_83646_row1_col11\" class=\"data row1 col11\" >0.168885</td>\n",
       "      <td id=\"T_83646_row1_col12\" class=\"data row1 col12\" >0.015819</td>\n",
       "    </tr>\n",
       "    <tr>\n",
       "      <th id=\"T_83646_level0_row2\" class=\"row_heading level0 row2\" >weight</th>\n",
       "      <td id=\"T_83646_row2_col0\" class=\"data row2 col0\" >0.458690</td>\n",
       "      <td id=\"T_83646_row2_col1\" class=\"data row2 col1\" >0.059708</td>\n",
       "      <td id=\"T_83646_row2_col2\" class=\"data row2 col2\" >1.000000</td>\n",
       "      <td id=\"T_83646_row2_col3\" class=\"data row2 col3\" >0.896808</td>\n",
       "      <td id=\"T_83646_row2_col4\" class=\"data row2 col4\" >0.264738</td>\n",
       "      <td id=\"T_83646_row2_col5\" class=\"data row2 col5\" >0.421076</td>\n",
       "      <td id=\"T_83646_row2_col6\" class=\"data row2 col6\" >0.464074</td>\n",
       "      <td id=\"T_83646_row2_col7\" class=\"data row2 col7\" >0.378842</td>\n",
       "      <td id=\"T_83646_row2_col8\" class=\"data row2 col8\" >0.441324</td>\n",
       "      <td id=\"T_83646_row2_col9\" class=\"data row2 col9\" >0.260807</td>\n",
       "      <td id=\"T_83646_row2_col10\" class=\"data row2 col10\" >0.259937</td>\n",
       "      <td id=\"T_83646_row2_col11\" class=\"data row2 col11\" >0.854108</td>\n",
       "      <td id=\"T_83646_row2_col12\" class=\"data row2 col12\" >-0.392290</td>\n",
       "    </tr>\n",
       "    <tr>\n",
       "      <th id=\"T_83646_level0_row3\" class=\"row_heading level0 row3\" >resolution</th>\n",
       "      <td id=\"T_83646_row3_col0\" class=\"data row3 col0\" >0.517247</td>\n",
       "      <td id=\"T_83646_row3_col1\" class=\"data row3 col1\" >0.014378</td>\n",
       "      <td id=\"T_83646_row3_col2\" class=\"data row3 col2\" >0.896808</td>\n",
       "      <td id=\"T_83646_row3_col3\" class=\"data row3 col3\" >1.000000</td>\n",
       "      <td id=\"T_83646_row3_col4\" class=\"data row3 col4\" >0.329837</td>\n",
       "      <td id=\"T_83646_row3_col5\" class=\"data row3 col5\" >0.560670</td>\n",
       "      <td id=\"T_83646_row3_col6\" class=\"data row3 col6\" >0.508351</td>\n",
       "      <td id=\"T_83646_row3_col7\" class=\"data row3 col7\" >0.382425</td>\n",
       "      <td id=\"T_83646_row3_col8\" class=\"data row3 col8\" >0.452075</td>\n",
       "      <td id=\"T_83646_row3_col9\" class=\"data row3 col9\" >0.398356</td>\n",
       "      <td id=\"T_83646_row3_col10\" class=\"data row3 col10\" >0.374216</td>\n",
       "      <td id=\"T_83646_row3_col11\" class=\"data row3 col11\" >0.842347</td>\n",
       "      <td id=\"T_83646_row3_col12\" class=\"data row3 col12\" >-0.603436</td>\n",
       "    </tr>\n",
       "    <tr>\n",
       "      <th id=\"T_83646_level0_row4\" class=\"row_heading level0 row4\" >ppi</th>\n",
       "      <td id=\"T_83646_row4_col0\" class=\"data row4 col0\" >0.835765</td>\n",
       "      <td id=\"T_83646_row4_col1\" class=\"data row4 col1\" >0.202512</td>\n",
       "      <td id=\"T_83646_row4_col2\" class=\"data row4 col2\" >0.264738</td>\n",
       "      <td id=\"T_83646_row4_col3\" class=\"data row4 col3\" >0.329837</td>\n",
       "      <td id=\"T_83646_row4_col4\" class=\"data row4 col4\" >1.000000</td>\n",
       "      <td id=\"T_83646_row4_col5\" class=\"data row4 col5\" >0.464451</td>\n",
       "      <td id=\"T_83646_row4_col6\" class=\"data row4 col6\" >0.744070</td>\n",
       "      <td id=\"T_83646_row4_col7\" class=\"data row4 col7\" >0.733769</td>\n",
       "      <td id=\"T_83646_row4_col8\" class=\"data row4 col8\" >0.796308</td>\n",
       "      <td id=\"T_83646_row4_col9\" class=\"data row4 col9\" >0.800312</td>\n",
       "      <td id=\"T_83646_row4_col10\" class=\"data row4 col10\" >0.600100</td>\n",
       "      <td id=\"T_83646_row4_col11\" class=\"data row4 col11\" >0.477031</td>\n",
       "      <td id=\"T_83646_row4_col12\" class=\"data row4 col12\" >-0.512948</td>\n",
       "    </tr>\n",
       "    <tr>\n",
       "      <th id=\"T_83646_level0_row5\" class=\"row_heading level0 row5\" >cpu core</th>\n",
       "      <td id=\"T_83646_row5_col0\" class=\"data row5 col0\" >0.672025</td>\n",
       "      <td id=\"T_83646_row5_col1\" class=\"data row5 col1\" >0.069497</td>\n",
       "      <td id=\"T_83646_row5_col2\" class=\"data row5 col2\" >0.421076</td>\n",
       "      <td id=\"T_83646_row5_col3\" class=\"data row5 col3\" >0.560670</td>\n",
       "      <td id=\"T_83646_row5_col4\" class=\"data row5 col4\" >0.464451</td>\n",
       "      <td id=\"T_83646_row5_col5\" class=\"data row5 col5\" >1.000000</td>\n",
       "      <td id=\"T_83646_row5_col6\" class=\"data row5 col6\" >0.464975</td>\n",
       "      <td id=\"T_83646_row5_col7\" class=\"data row5 col7\" >0.401658</td>\n",
       "      <td id=\"T_83646_row5_col8\" class=\"data row5 col8\" >0.499114</td>\n",
       "      <td id=\"T_83646_row5_col9\" class=\"data row5 col9\" >0.581205</td>\n",
       "      <td id=\"T_83646_row5_col10\" class=\"data row5 col10\" >0.548129</td>\n",
       "      <td id=\"T_83646_row5_col11\" class=\"data row5 col11\" >0.568062</td>\n",
       "      <td id=\"T_83646_row5_col12\" class=\"data row5 col12\" >-0.710113</td>\n",
       "    </tr>\n",
       "    <tr>\n",
       "      <th id=\"T_83646_level0_row6\" class=\"row_heading level0 row6\" >cpu freq</th>\n",
       "      <td id=\"T_83646_row6_col0\" class=\"data row6 col0\" >0.718448</td>\n",
       "      <td id=\"T_83646_row6_col1\" class=\"data row6 col1\" >0.022947</td>\n",
       "      <td id=\"T_83646_row6_col2\" class=\"data row6 col2\" >0.464074</td>\n",
       "      <td id=\"T_83646_row6_col3\" class=\"data row6 col3\" >0.508351</td>\n",
       "      <td id=\"T_83646_row6_col4\" class=\"data row6 col4\" >0.744070</td>\n",
       "      <td id=\"T_83646_row6_col5\" class=\"data row6 col5\" >0.464975</td>\n",
       "      <td id=\"T_83646_row6_col6\" class=\"data row6 col6\" >1.000000</td>\n",
       "      <td id=\"T_83646_row6_col7\" class=\"data row6 col7\" >0.549436</td>\n",
       "      <td id=\"T_83646_row6_col8\" class=\"data row6 col8\" >0.652543</td>\n",
       "      <td id=\"T_83646_row6_col9\" class=\"data row6 col9\" >0.664028</td>\n",
       "      <td id=\"T_83646_row6_col10\" class=\"data row6 col10\" >0.372962</td>\n",
       "      <td id=\"T_83646_row6_col11\" class=\"data row6 col11\" >0.577972</td>\n",
       "      <td id=\"T_83646_row6_col12\" class=\"data row6 col12\" >-0.557132</td>\n",
       "    </tr>\n",
       "    <tr>\n",
       "      <th id=\"T_83646_level0_row7\" class=\"row_heading level0 row7\" >internal memory</th>\n",
       "      <td id=\"T_83646_row7_col0\" class=\"data row7 col0\" >0.862825</td>\n",
       "      <td id=\"T_83646_row7_col1\" class=\"data row7 col1\" >0.264570</td>\n",
       "      <td id=\"T_83646_row7_col2\" class=\"data row7 col2\" >0.378842</td>\n",
       "      <td id=\"T_83646_row7_col3\" class=\"data row7 col3\" >0.382425</td>\n",
       "      <td id=\"T_83646_row7_col4\" class=\"data row7 col4\" >0.733769</td>\n",
       "      <td id=\"T_83646_row7_col5\" class=\"data row7 col5\" >0.401658</td>\n",
       "      <td id=\"T_83646_row7_col6\" class=\"data row7 col6\" >0.549436</td>\n",
       "      <td id=\"T_83646_row7_col7\" class=\"data row7 col7\" >1.000000</td>\n",
       "      <td id=\"T_83646_row7_col8\" class=\"data row7 col8\" >0.936395</td>\n",
       "      <td id=\"T_83646_row7_col9\" class=\"data row7 col9\" >0.506071</td>\n",
       "      <td id=\"T_83646_row7_col10\" class=\"data row7 col10\" >0.660105</td>\n",
       "      <td id=\"T_83646_row7_col11\" class=\"data row7 col11\" >0.615206</td>\n",
       "      <td id=\"T_83646_row7_col12\" class=\"data row7 col12\" >-0.482703</td>\n",
       "    </tr>\n",
       "    <tr>\n",
       "      <th id=\"T_83646_level0_row8\" class=\"row_heading level0 row8\" >ram</th>\n",
       "      <td id=\"T_83646_row8_col0\" class=\"data row8 col0\" >0.918097</td>\n",
       "      <td id=\"T_83646_row8_col1\" class=\"data row8 col1\" >0.228897</td>\n",
       "      <td id=\"T_83646_row8_col2\" class=\"data row8 col2\" >0.441324</td>\n",
       "      <td id=\"T_83646_row8_col3\" class=\"data row8 col3\" >0.452075</td>\n",
       "      <td id=\"T_83646_row8_col4\" class=\"data row8 col4\" >0.796308</td>\n",
       "      <td id=\"T_83646_row8_col5\" class=\"data row8 col5\" >0.499114</td>\n",
       "      <td id=\"T_83646_row8_col6\" class=\"data row8 col6\" >0.652543</td>\n",
       "      <td id=\"T_83646_row8_col7\" class=\"data row8 col7\" >0.936395</td>\n",
       "      <td id=\"T_83646_row8_col8\" class=\"data row8 col8\" >1.000000</td>\n",
       "      <td id=\"T_83646_row8_col9\" class=\"data row8 col9\" >0.625128</td>\n",
       "      <td id=\"T_83646_row8_col10\" class=\"data row8 col10\" >0.700373</td>\n",
       "      <td id=\"T_83646_row8_col11\" class=\"data row8 col11\" >0.680616</td>\n",
       "      <td id=\"T_83646_row8_col12\" class=\"data row8 col12\" >-0.548839</td>\n",
       "    </tr>\n",
       "    <tr>\n",
       "      <th id=\"T_83646_level0_row9\" class=\"row_heading level0 row9\" >Rear_Cam</th>\n",
       "      <td id=\"T_83646_row9_col0\" class=\"data row9 col0\" >0.707871</td>\n",
       "      <td id=\"T_83646_row9_col1\" class=\"data row9 col1\" >0.167912</td>\n",
       "      <td id=\"T_83646_row9_col2\" class=\"data row9 col2\" >0.260807</td>\n",
       "      <td id=\"T_83646_row9_col3\" class=\"data row9 col3\" >0.398356</td>\n",
       "      <td id=\"T_83646_row9_col4\" class=\"data row9 col4\" >0.800312</td>\n",
       "      <td id=\"T_83646_row9_col5\" class=\"data row9 col5\" >0.581205</td>\n",
       "      <td id=\"T_83646_row9_col6\" class=\"data row9 col6\" >0.664028</td>\n",
       "      <td id=\"T_83646_row9_col7\" class=\"data row9 col7\" >0.506071</td>\n",
       "      <td id=\"T_83646_row9_col8\" class=\"data row9 col8\" >0.625128</td>\n",
       "      <td id=\"T_83646_row9_col9\" class=\"data row9 col9\" >1.000000</td>\n",
       "      <td id=\"T_83646_row9_col10\" class=\"data row9 col10\" >0.588777</td>\n",
       "      <td id=\"T_83646_row9_col11\" class=\"data row9 col11\" >0.452611</td>\n",
       "      <td id=\"T_83646_row9_col12\" class=\"data row9 col12\" >-0.558495</td>\n",
       "    </tr>\n",
       "    <tr>\n",
       "      <th id=\"T_83646_level0_row10\" class=\"row_heading level0 row10\" >Front_Cam</th>\n",
       "      <td id=\"T_83646_row10_col0\" class=\"data row10 col0\" >0.720756</td>\n",
       "      <td id=\"T_83646_row10_col1\" class=\"data row10 col1\" >0.327488</td>\n",
       "      <td id=\"T_83646_row10_col2\" class=\"data row10 col2\" >0.259937</td>\n",
       "      <td id=\"T_83646_row10_col3\" class=\"data row10 col3\" >0.374216</td>\n",
       "      <td id=\"T_83646_row10_col4\" class=\"data row10 col4\" >0.600100</td>\n",
       "      <td id=\"T_83646_row10_col5\" class=\"data row10 col5\" >0.548129</td>\n",
       "      <td id=\"T_83646_row10_col6\" class=\"data row10 col6\" >0.372962</td>\n",
       "      <td id=\"T_83646_row10_col7\" class=\"data row10 col7\" >0.660105</td>\n",
       "      <td id=\"T_83646_row10_col8\" class=\"data row10 col8\" >0.700373</td>\n",
       "      <td id=\"T_83646_row10_col9\" class=\"data row10 col9\" >0.588777</td>\n",
       "      <td id=\"T_83646_row10_col10\" class=\"data row10 col10\" >1.000000</td>\n",
       "      <td id=\"T_83646_row10_col11\" class=\"data row10 col11\" >0.488624</td>\n",
       "      <td id=\"T_83646_row10_col12\" class=\"data row10 col12\" >-0.526328</td>\n",
       "    </tr>\n",
       "    <tr>\n",
       "      <th id=\"T_83646_level0_row11\" class=\"row_heading level0 row11\" >battery</th>\n",
       "      <td id=\"T_83646_row11_col0\" class=\"data row11 col0\" >0.698594</td>\n",
       "      <td id=\"T_83646_row11_col1\" class=\"data row11 col1\" >0.168885</td>\n",
       "      <td id=\"T_83646_row11_col2\" class=\"data row11 col2\" >0.854108</td>\n",
       "      <td id=\"T_83646_row11_col3\" class=\"data row11 col3\" >0.842347</td>\n",
       "      <td id=\"T_83646_row11_col4\" class=\"data row11 col4\" >0.477031</td>\n",
       "      <td id=\"T_83646_row11_col5\" class=\"data row11 col5\" >0.568062</td>\n",
       "      <td id=\"T_83646_row11_col6\" class=\"data row11 col6\" >0.577972</td>\n",
       "      <td id=\"T_83646_row11_col7\" class=\"data row11 col7\" >0.615206</td>\n",
       "      <td id=\"T_83646_row11_col8\" class=\"data row11 col8\" >0.680616</td>\n",
       "      <td id=\"T_83646_row11_col9\" class=\"data row11 col9\" >0.452611</td>\n",
       "      <td id=\"T_83646_row11_col10\" class=\"data row11 col10\" >0.488624</td>\n",
       "      <td id=\"T_83646_row11_col11\" class=\"data row11 col11\" >1.000000</td>\n",
       "      <td id=\"T_83646_row11_col12\" class=\"data row11 col12\" >-0.532893</td>\n",
       "    </tr>\n",
       "    <tr>\n",
       "      <th id=\"T_83646_level0_row12\" class=\"row_heading level0 row12\" >thickness</th>\n",
       "      <td id=\"T_83646_row12_col0\" class=\"data row12 col0\" >-0.723390</td>\n",
       "      <td id=\"T_83646_row12_col1\" class=\"data row12 col1\" >0.015819</td>\n",
       "      <td id=\"T_83646_row12_col2\" class=\"data row12 col2\" >-0.392290</td>\n",
       "      <td id=\"T_83646_row12_col3\" class=\"data row12 col3\" >-0.603436</td>\n",
       "      <td id=\"T_83646_row12_col4\" class=\"data row12 col4\" >-0.512948</td>\n",
       "      <td id=\"T_83646_row12_col5\" class=\"data row12 col5\" >-0.710113</td>\n",
       "      <td id=\"T_83646_row12_col6\" class=\"data row12 col6\" >-0.557132</td>\n",
       "      <td id=\"T_83646_row12_col7\" class=\"data row12 col7\" >-0.482703</td>\n",
       "      <td id=\"T_83646_row12_col8\" class=\"data row12 col8\" >-0.548839</td>\n",
       "      <td id=\"T_83646_row12_col9\" class=\"data row12 col9\" >-0.558495</td>\n",
       "      <td id=\"T_83646_row12_col10\" class=\"data row12 col10\" >-0.526328</td>\n",
       "      <td id=\"T_83646_row12_col11\" class=\"data row12 col11\" >-0.532893</td>\n",
       "      <td id=\"T_83646_row12_col12\" class=\"data row12 col12\" >1.000000</td>\n",
       "    </tr>\n",
       "  </tbody>\n",
       "</table>\n"
      ],
      "text/plain": [
       "<pandas.io.formats.style.Styler at 0x24b871372d0>"
      ]
     },
     "execution_count": 368,
     "metadata": {},
     "output_type": "execute_result"
    }
   ],
   "source": [
    "Correlation = train.corr()\n",
    "Correlation.style.applymap(lambda x: 'background-color : cyan' if x > 0.7 else '')"
   ]
  },
  {
   "cell_type": "markdown",
   "id": "e4d438a5",
   "metadata": {},
   "source": [
    "# VIF"
   ]
  },
  {
   "cell_type": "code",
   "execution_count": 369,
   "id": "9ce3ff7a",
   "metadata": {
    "scrolled": true
   },
   "outputs": [
    {
     "data": {
      "text/plain": [
       "Sale                2.178986\n",
       "weight             47.005107\n",
       "resolution         39.465648\n",
       "ppi                17.863334\n",
       "cpu core           10.657005\n",
       "cpu freq           17.354941\n",
       "internal memory    19.144426\n",
       "ram                33.858601\n",
       "Rear_Cam           14.029139\n",
       "Front_Cam           5.447903\n",
       "battery            28.094707\n",
       "thickness           3.500177\n",
       "dtype: float64"
      ]
     },
     "execution_count": 369,
     "metadata": {},
     "output_type": "execute_result"
    }
   ],
   "source": [
    "from statsmodels.stats.outliers_influence import variance_inflation_factor\n",
    "X1 = df.drop(['Price'],axis=1)\n",
    "series_before = pd.Series([variance_inflation_factor(X1.values, i) \n",
    "                           for i in range(X1.shape[1])],  # i=0,1,2,...8\n",
    "                          index=X1.columns)  # column name\n",
    "series_before"
   ]
  },
  {
   "cell_type": "markdown",
   "id": "161406c5",
   "metadata": {},
   "source": [
    "# Model Building"
   ]
  },
  {
   "cell_type": "code",
   "execution_count": 370,
   "id": "d4c7cfbf",
   "metadata": {},
   "outputs": [
    {
     "data": {
      "text/plain": [
       "Sale                2.178986\n",
       "weight             47.005107\n",
       "resolution         39.465648\n",
       "ppi                17.863334\n",
       "cpu core           10.657005\n",
       "cpu freq           17.354941\n",
       "internal memory    19.144426\n",
       "ram                33.858601\n",
       "Rear_Cam           14.029139\n",
       "Front_Cam           5.447903\n",
       "battery            28.094707\n",
       "thickness           3.500177\n",
       "dtype: float64"
      ]
     },
     "execution_count": 370,
     "metadata": {},
     "output_type": "execute_result"
    }
   ],
   "source": [
    "from statsmodels.stats.outliers_influence import variance_inflation_factor\n",
    "X1 = df.drop(['Price'],axis=1)\n",
    "series_before = pd.Series([variance_inflation_factor(X1.values, i) \n",
    "                           for i in range(X1.shape[1])],  # i=0,1,2,...8\n",
    "                          index=X1.columns)  # column name\n",
    "series_before"
   ]
  },
  {
   "cell_type": "code",
   "execution_count": 371,
   "id": "b5bfd9d8",
   "metadata": {},
   "outputs": [
    {
     "data": {
      "text/html": [
       "<style>#sk-container-id-17 {color: black;}#sk-container-id-17 pre{padding: 0;}#sk-container-id-17 div.sk-toggleable {background-color: white;}#sk-container-id-17 label.sk-toggleable__label {cursor: pointer;display: block;width: 100%;margin-bottom: 0;padding: 0.3em;box-sizing: border-box;text-align: center;}#sk-container-id-17 label.sk-toggleable__label-arrow:before {content: \"▸\";float: left;margin-right: 0.25em;color: #696969;}#sk-container-id-17 label.sk-toggleable__label-arrow:hover:before {color: black;}#sk-container-id-17 div.sk-estimator:hover label.sk-toggleable__label-arrow:before {color: black;}#sk-container-id-17 div.sk-toggleable__content {max-height: 0;max-width: 0;overflow: hidden;text-align: left;background-color: #f0f8ff;}#sk-container-id-17 div.sk-toggleable__content pre {margin: 0.2em;color: black;border-radius: 0.25em;background-color: #f0f8ff;}#sk-container-id-17 input.sk-toggleable__control:checked~div.sk-toggleable__content {max-height: 200px;max-width: 100%;overflow: auto;}#sk-container-id-17 input.sk-toggleable__control:checked~label.sk-toggleable__label-arrow:before {content: \"▾\";}#sk-container-id-17 div.sk-estimator input.sk-toggleable__control:checked~label.sk-toggleable__label {background-color: #d4ebff;}#sk-container-id-17 div.sk-label input.sk-toggleable__control:checked~label.sk-toggleable__label {background-color: #d4ebff;}#sk-container-id-17 input.sk-hidden--visually {border: 0;clip: rect(1px 1px 1px 1px);clip: rect(1px, 1px, 1px, 1px);height: 1px;margin: -1px;overflow: hidden;padding: 0;position: absolute;width: 1px;}#sk-container-id-17 div.sk-estimator {font-family: monospace;background-color: #f0f8ff;border: 1px dotted black;border-radius: 0.25em;box-sizing: border-box;margin-bottom: 0.5em;}#sk-container-id-17 div.sk-estimator:hover {background-color: #d4ebff;}#sk-container-id-17 div.sk-parallel-item::after {content: \"\";width: 100%;border-bottom: 1px solid gray;flex-grow: 1;}#sk-container-id-17 div.sk-label:hover label.sk-toggleable__label {background-color: #d4ebff;}#sk-container-id-17 div.sk-serial::before {content: \"\";position: absolute;border-left: 1px solid gray;box-sizing: border-box;top: 0;bottom: 0;left: 50%;z-index: 0;}#sk-container-id-17 div.sk-serial {display: flex;flex-direction: column;align-items: center;background-color: white;padding-right: 0.2em;padding-left: 0.2em;position: relative;}#sk-container-id-17 div.sk-item {position: relative;z-index: 1;}#sk-container-id-17 div.sk-parallel {display: flex;align-items: stretch;justify-content: center;background-color: white;position: relative;}#sk-container-id-17 div.sk-item::before, #sk-container-id-17 div.sk-parallel-item::before {content: \"\";position: absolute;border-left: 1px solid gray;box-sizing: border-box;top: 0;bottom: 0;left: 50%;z-index: -1;}#sk-container-id-17 div.sk-parallel-item {display: flex;flex-direction: column;z-index: 1;position: relative;background-color: white;}#sk-container-id-17 div.sk-parallel-item:first-child::after {align-self: flex-end;width: 50%;}#sk-container-id-17 div.sk-parallel-item:last-child::after {align-self: flex-start;width: 50%;}#sk-container-id-17 div.sk-parallel-item:only-child::after {width: 0;}#sk-container-id-17 div.sk-dashed-wrapped {border: 1px dashed gray;margin: 0 0.4em 0.5em 0.4em;box-sizing: border-box;padding-bottom: 0.4em;background-color: white;}#sk-container-id-17 div.sk-label label {font-family: monospace;font-weight: bold;display: inline-block;line-height: 1.2em;}#sk-container-id-17 div.sk-label-container {text-align: center;}#sk-container-id-17 div.sk-container {/* jupyter's `normalize.less` sets `[hidden] { display: none; }` but bootstrap.min.css set `[hidden] { display: none !important; }` so we also need the `!important` here to be able to override the default hidden behavior on the sphinx rendered scikit-learn.org. See: https://github.com/scikit-learn/scikit-learn/issues/21755 */display: inline-block !important;position: relative;}#sk-container-id-17 div.sk-text-repr-fallback {display: none;}</style><div id=\"sk-container-id-17\" class=\"sk-top-container\"><div class=\"sk-text-repr-fallback\"><pre>SequentialFeatureSelector(estimator=LinearRegression(), n_features_to_select=5,\n",
       "                          scoring=&#x27;r2&#x27;)</pre><b>In a Jupyter environment, please rerun this cell to show the HTML representation or trust the notebook. <br />On GitHub, the HTML representation is unable to render, please try loading this page with nbviewer.org.</b></div><div class=\"sk-container\" hidden><div class=\"sk-item sk-dashed-wrapped\"><div class=\"sk-label-container\"><div class=\"sk-label sk-toggleable\"><input class=\"sk-toggleable__control sk-hidden--visually\" id=\"sk-estimator-id-33\" type=\"checkbox\" ><label for=\"sk-estimator-id-33\" class=\"sk-toggleable__label sk-toggleable__label-arrow\">SequentialFeatureSelector</label><div class=\"sk-toggleable__content\"><pre>SequentialFeatureSelector(estimator=LinearRegression(), n_features_to_select=5,\n",
       "                          scoring=&#x27;r2&#x27;)</pre></div></div></div><div class=\"sk-parallel\"><div class=\"sk-parallel-item\"><div class=\"sk-item\"><div class=\"sk-label-container\"><div class=\"sk-label sk-toggleable\"><input class=\"sk-toggleable__control sk-hidden--visually\" id=\"sk-estimator-id-34\" type=\"checkbox\" ><label for=\"sk-estimator-id-34\" class=\"sk-toggleable__label sk-toggleable__label-arrow\">estimator: LinearRegression</label><div class=\"sk-toggleable__content\"><pre>LinearRegression()</pre></div></div></div><div class=\"sk-serial\"><div class=\"sk-item\"><div class=\"sk-estimator sk-toggleable\"><input class=\"sk-toggleable__control sk-hidden--visually\" id=\"sk-estimator-id-35\" type=\"checkbox\" ><label for=\"sk-estimator-id-35\" class=\"sk-toggleable__label sk-toggleable__label-arrow\">LinearRegression</label><div class=\"sk-toggleable__content\"><pre>LinearRegression()</pre></div></div></div></div></div></div></div></div></div></div>"
      ],
      "text/plain": [
       "SequentialFeatureSelector(estimator=LinearRegression(), n_features_to_select=5,\n",
       "                          scoring='r2')"
      ]
     },
     "execution_count": 371,
     "metadata": {},
     "output_type": "execute_result"
    }
   ],
   "source": [
    "from sklearn.linear_model import LinearRegression\n",
    "from sklearn.feature_selection import SequentialFeatureSelector as sfs\n",
    "\n",
    "lreg = LinearRegression()\n",
    "Model = sfs(lreg, n_features_to_select = 5, direction='forward', scoring='r2')\n",
    "Model.fit(X_train,y_train)"
   ]
  },
  {
   "cell_type": "code",
   "execution_count": 372,
   "id": "f9260006",
   "metadata": {},
   "outputs": [
    {
     "data": {
      "text/plain": [
       "array(['Sale', 'weight', 'resolution', 'ppi', 'cpu core', 'cpu freq',\n",
       "       'internal memory', 'ram', 'Rear_Cam', 'Front_Cam', 'battery',\n",
       "       'thickness'], dtype=object)"
      ]
     },
     "execution_count": 372,
     "metadata": {},
     "output_type": "execute_result"
    }
   ],
   "source": [
    "Model.feature_names_in_"
   ]
  },
  {
   "cell_type": "code",
   "execution_count": 373,
   "id": "631703cb",
   "metadata": {
    "scrolled": true
   },
   "outputs": [
    {
     "data": {
      "text/plain": [
       "array(['ppi', 'cpu core', 'internal memory', 'ram', 'thickness'],\n",
       "      dtype=object)"
      ]
     },
     "execution_count": 373,
     "metadata": {},
     "output_type": "execute_result"
    }
   ],
   "source": [
    "Model.get_feature_names_out()"
   ]
  },
  {
   "cell_type": "markdown",
   "id": "3f800aa6",
   "metadata": {},
   "source": [
    "# Method 2 -- sklearn"
   ]
  },
  {
   "cell_type": "code",
   "execution_count": 374,
   "id": "f3dbd5d8",
   "metadata": {},
   "outputs": [],
   "source": [
    "from sklearn.linear_model import LinearRegression"
   ]
  },
  {
   "cell_type": "code",
   "execution_count": 375,
   "id": "fcc73a33",
   "metadata": {},
   "outputs": [
    {
     "data": {
      "text/html": [
       "<div>\n",
       "<style scoped>\n",
       "    .dataframe tbody tr th:only-of-type {\n",
       "        vertical-align: middle;\n",
       "    }\n",
       "\n",
       "    .dataframe tbody tr th {\n",
       "        vertical-align: top;\n",
       "    }\n",
       "\n",
       "    .dataframe thead th {\n",
       "        text-align: right;\n",
       "    }\n",
       "</style>\n",
       "<table border=\"1\" class=\"dataframe\">\n",
       "  <thead>\n",
       "    <tr style=\"text-align: right;\">\n",
       "      <th></th>\n",
       "      <th>ppi</th>\n",
       "      <th>cpu core</th>\n",
       "      <th>internal memory</th>\n",
       "      <th>ram</th>\n",
       "      <th>thickness</th>\n",
       "    </tr>\n",
       "  </thead>\n",
       "  <tbody>\n",
       "    <tr>\n",
       "      <th>132</th>\n",
       "      <td>534.0</td>\n",
       "      <td>4</td>\n",
       "      <td>32.0</td>\n",
       "      <td>3.000</td>\n",
       "      <td>9.1</td>\n",
       "    </tr>\n",
       "    <tr>\n",
       "      <th>142</th>\n",
       "      <td>424.0</td>\n",
       "      <td>4</td>\n",
       "      <td>16.0</td>\n",
       "      <td>3.000</td>\n",
       "      <td>7.3</td>\n",
       "    </tr>\n",
       "    <tr>\n",
       "      <th>143</th>\n",
       "      <td>424.0</td>\n",
       "      <td>4</td>\n",
       "      <td>16.0</td>\n",
       "      <td>3.000</td>\n",
       "      <td>7.3</td>\n",
       "    </tr>\n",
       "    <tr>\n",
       "      <th>117</th>\n",
       "      <td>401.0</td>\n",
       "      <td>8</td>\n",
       "      <td>32.0</td>\n",
       "      <td>4.000</td>\n",
       "      <td>8.0</td>\n",
       "    </tr>\n",
       "    <tr>\n",
       "      <th>8</th>\n",
       "      <td>233.0</td>\n",
       "      <td>2</td>\n",
       "      <td>4.0</td>\n",
       "      <td>0.512</td>\n",
       "      <td>11.0</td>\n",
       "    </tr>\n",
       "  </tbody>\n",
       "</table>\n",
       "</div>"
      ],
      "text/plain": [
       "       ppi  cpu core  internal memory    ram  thickness\n",
       "132  534.0         4             32.0  3.000        9.1\n",
       "142  424.0         4             16.0  3.000        7.3\n",
       "143  424.0         4             16.0  3.000        7.3\n",
       "117  401.0         8             32.0  4.000        8.0\n",
       "8    233.0         2              4.0  0.512       11.0"
      ]
     },
     "execution_count": 375,
     "metadata": {},
     "output_type": "execute_result"
    }
   ],
   "source": [
    "X_train = X_train.loc[:,['ppi', 'cpu core', 'internal memory', 'ram', 'thickness']]\n",
    "X_train.head()"
   ]
  },
  {
   "cell_type": "code",
   "execution_count": 376,
   "id": "01713e03",
   "metadata": {},
   "outputs": [
    {
     "data": {
      "text/html": [
       "<div>\n",
       "<style scoped>\n",
       "    .dataframe tbody tr th:only-of-type {\n",
       "        vertical-align: middle;\n",
       "    }\n",
       "\n",
       "    .dataframe tbody tr th {\n",
       "        vertical-align: top;\n",
       "    }\n",
       "\n",
       "    .dataframe thead th {\n",
       "        text-align: right;\n",
       "    }\n",
       "</style>\n",
       "<table border=\"1\" class=\"dataframe\">\n",
       "  <thead>\n",
       "    <tr style=\"text-align: right;\">\n",
       "      <th></th>\n",
       "      <th>ppi</th>\n",
       "      <th>cpu core</th>\n",
       "      <th>internal memory</th>\n",
       "      <th>ram</th>\n",
       "      <th>thickness</th>\n",
       "      <th>Price</th>\n",
       "    </tr>\n",
       "  </thead>\n",
       "  <tbody>\n",
       "    <tr>\n",
       "      <th>132</th>\n",
       "      <td>534.0</td>\n",
       "      <td>4</td>\n",
       "      <td>32.0</td>\n",
       "      <td>3.000</td>\n",
       "      <td>9.1</td>\n",
       "      <td>2466</td>\n",
       "    </tr>\n",
       "    <tr>\n",
       "      <th>142</th>\n",
       "      <td>424.0</td>\n",
       "      <td>4</td>\n",
       "      <td>16.0</td>\n",
       "      <td>3.000</td>\n",
       "      <td>7.3</td>\n",
       "      <td>2508</td>\n",
       "    </tr>\n",
       "    <tr>\n",
       "      <th>143</th>\n",
       "      <td>424.0</td>\n",
       "      <td>4</td>\n",
       "      <td>16.0</td>\n",
       "      <td>3.000</td>\n",
       "      <td>7.3</td>\n",
       "      <td>2508</td>\n",
       "    </tr>\n",
       "    <tr>\n",
       "      <th>117</th>\n",
       "      <td>401.0</td>\n",
       "      <td>8</td>\n",
       "      <td>32.0</td>\n",
       "      <td>4.000</td>\n",
       "      <td>8.0</td>\n",
       "      <td>3287</td>\n",
       "    </tr>\n",
       "    <tr>\n",
       "      <th>8</th>\n",
       "      <td>233.0</td>\n",
       "      <td>2</td>\n",
       "      <td>4.0</td>\n",
       "      <td>0.512</td>\n",
       "      <td>11.0</td>\n",
       "      <td>1315</td>\n",
       "    </tr>\n",
       "  </tbody>\n",
       "</table>\n",
       "</div>"
      ],
      "text/plain": [
       "       ppi  cpu core  internal memory    ram  thickness  Price\n",
       "132  534.0         4             32.0  3.000        9.1   2466\n",
       "142  424.0         4             16.0  3.000        7.3   2508\n",
       "143  424.0         4             16.0  3.000        7.3   2508\n",
       "117  401.0         8             32.0  4.000        8.0   3287\n",
       "8    233.0         2              4.0  0.512       11.0   1315"
      ]
     },
     "execution_count": 376,
     "metadata": {},
     "output_type": "execute_result"
    }
   ],
   "source": [
    "train = pd.concat([X_train,y_train], axis=1)\n",
    "train.head()"
   ]
  },
  {
   "cell_type": "code",
   "execution_count": 377,
   "id": "be868a88",
   "metadata": {},
   "outputs": [
    {
     "data": {
      "text/html": [
       "<style>#sk-container-id-18 {color: black;}#sk-container-id-18 pre{padding: 0;}#sk-container-id-18 div.sk-toggleable {background-color: white;}#sk-container-id-18 label.sk-toggleable__label {cursor: pointer;display: block;width: 100%;margin-bottom: 0;padding: 0.3em;box-sizing: border-box;text-align: center;}#sk-container-id-18 label.sk-toggleable__label-arrow:before {content: \"▸\";float: left;margin-right: 0.25em;color: #696969;}#sk-container-id-18 label.sk-toggleable__label-arrow:hover:before {color: black;}#sk-container-id-18 div.sk-estimator:hover label.sk-toggleable__label-arrow:before {color: black;}#sk-container-id-18 div.sk-toggleable__content {max-height: 0;max-width: 0;overflow: hidden;text-align: left;background-color: #f0f8ff;}#sk-container-id-18 div.sk-toggleable__content pre {margin: 0.2em;color: black;border-radius: 0.25em;background-color: #f0f8ff;}#sk-container-id-18 input.sk-toggleable__control:checked~div.sk-toggleable__content {max-height: 200px;max-width: 100%;overflow: auto;}#sk-container-id-18 input.sk-toggleable__control:checked~label.sk-toggleable__label-arrow:before {content: \"▾\";}#sk-container-id-18 div.sk-estimator input.sk-toggleable__control:checked~label.sk-toggleable__label {background-color: #d4ebff;}#sk-container-id-18 div.sk-label input.sk-toggleable__control:checked~label.sk-toggleable__label {background-color: #d4ebff;}#sk-container-id-18 input.sk-hidden--visually {border: 0;clip: rect(1px 1px 1px 1px);clip: rect(1px, 1px, 1px, 1px);height: 1px;margin: -1px;overflow: hidden;padding: 0;position: absolute;width: 1px;}#sk-container-id-18 div.sk-estimator {font-family: monospace;background-color: #f0f8ff;border: 1px dotted black;border-radius: 0.25em;box-sizing: border-box;margin-bottom: 0.5em;}#sk-container-id-18 div.sk-estimator:hover {background-color: #d4ebff;}#sk-container-id-18 div.sk-parallel-item::after {content: \"\";width: 100%;border-bottom: 1px solid gray;flex-grow: 1;}#sk-container-id-18 div.sk-label:hover label.sk-toggleable__label {background-color: #d4ebff;}#sk-container-id-18 div.sk-serial::before {content: \"\";position: absolute;border-left: 1px solid gray;box-sizing: border-box;top: 0;bottom: 0;left: 50%;z-index: 0;}#sk-container-id-18 div.sk-serial {display: flex;flex-direction: column;align-items: center;background-color: white;padding-right: 0.2em;padding-left: 0.2em;position: relative;}#sk-container-id-18 div.sk-item {position: relative;z-index: 1;}#sk-container-id-18 div.sk-parallel {display: flex;align-items: stretch;justify-content: center;background-color: white;position: relative;}#sk-container-id-18 div.sk-item::before, #sk-container-id-18 div.sk-parallel-item::before {content: \"\";position: absolute;border-left: 1px solid gray;box-sizing: border-box;top: 0;bottom: 0;left: 50%;z-index: -1;}#sk-container-id-18 div.sk-parallel-item {display: flex;flex-direction: column;z-index: 1;position: relative;background-color: white;}#sk-container-id-18 div.sk-parallel-item:first-child::after {align-self: flex-end;width: 50%;}#sk-container-id-18 div.sk-parallel-item:last-child::after {align-self: flex-start;width: 50%;}#sk-container-id-18 div.sk-parallel-item:only-child::after {width: 0;}#sk-container-id-18 div.sk-dashed-wrapped {border: 1px dashed gray;margin: 0 0.4em 0.5em 0.4em;box-sizing: border-box;padding-bottom: 0.4em;background-color: white;}#sk-container-id-18 div.sk-label label {font-family: monospace;font-weight: bold;display: inline-block;line-height: 1.2em;}#sk-container-id-18 div.sk-label-container {text-align: center;}#sk-container-id-18 div.sk-container {/* jupyter's `normalize.less` sets `[hidden] { display: none; }` but bootstrap.min.css set `[hidden] { display: none !important; }` so we also need the `!important` here to be able to override the default hidden behavior on the sphinx rendered scikit-learn.org. See: https://github.com/scikit-learn/scikit-learn/issues/21755 */display: inline-block !important;position: relative;}#sk-container-id-18 div.sk-text-repr-fallback {display: none;}</style><div id=\"sk-container-id-18\" class=\"sk-top-container\"><div class=\"sk-text-repr-fallback\"><pre>LinearRegression()</pre><b>In a Jupyter environment, please rerun this cell to show the HTML representation or trust the notebook. <br />On GitHub, the HTML representation is unable to render, please try loading this page with nbviewer.org.</b></div><div class=\"sk-container\" hidden><div class=\"sk-item\"><div class=\"sk-estimator sk-toggleable\"><input class=\"sk-toggleable__control sk-hidden--visually\" id=\"sk-estimator-id-36\" type=\"checkbox\" checked><label for=\"sk-estimator-id-36\" class=\"sk-toggleable__label sk-toggleable__label-arrow\">LinearRegression</label><div class=\"sk-toggleable__content\"><pre>LinearRegression()</pre></div></div></div></div></div>"
      ],
      "text/plain": [
       "LinearRegression()"
      ]
     },
     "execution_count": 377,
     "metadata": {},
     "output_type": "execute_result"
    }
   ],
   "source": [
    "Model3 = LinearRegression()\n",
    "Model3.fit(X_train,y_train)"
   ]
  },
  {
   "cell_type": "code",
   "execution_count": 378,
   "id": "05b7f2a2",
   "metadata": {},
   "outputs": [
    {
     "data": {
      "text/plain": [
       "array([1652.026])"
      ]
     },
     "execution_count": 378,
     "metadata": {},
     "output_type": "execute_result"
    }
   ],
   "source": [
    "np.round(Model3.intercept_,3)"
   ]
  },
  {
   "cell_type": "code",
   "execution_count": 379,
   "id": "c4bdfa6b",
   "metadata": {},
   "outputs": [
    {
     "data": {
      "text/plain": [
       "array([[  1.2892,  53.9884,   7.8244, 184.3014, -80.2308]])"
      ]
     },
     "execution_count": 379,
     "metadata": {},
     "output_type": "execute_result"
    }
   ],
   "source": [
    "np.round(Model3.coef_,4)"
   ]
  },
  {
   "cell_type": "code",
   "execution_count": 380,
   "id": "bb33c1bf",
   "metadata": {
    "scrolled": true
   },
   "outputs": [
    {
     "data": {
      "text/plain": [
       "array(['ppi', 'cpu core', 'internal memory', 'ram', 'thickness'],\n",
       "      dtype=object)"
      ]
     },
     "execution_count": 380,
     "metadata": {},
     "output_type": "execute_result"
    }
   ],
   "source": [
    "Model3.feature_names_in_"
   ]
  },
  {
   "cell_type": "markdown",
   "id": "57a8fb01",
   "metadata": {},
   "source": [
    "# Prediction on train"
   ]
  },
  {
   "cell_type": "code",
   "execution_count": 381,
   "id": "0f543397",
   "metadata": {},
   "outputs": [
    {
     "data": {
      "text/html": [
       "<div>\n",
       "<style scoped>\n",
       "    .dataframe tbody tr th:only-of-type {\n",
       "        vertical-align: middle;\n",
       "    }\n",
       "\n",
       "    .dataframe tbody tr th {\n",
       "        vertical-align: top;\n",
       "    }\n",
       "\n",
       "    .dataframe thead th {\n",
       "        text-align: right;\n",
       "    }\n",
       "</style>\n",
       "<table border=\"1\" class=\"dataframe\">\n",
       "  <thead>\n",
       "    <tr style=\"text-align: right;\">\n",
       "      <th></th>\n",
       "      <th>ppi</th>\n",
       "      <th>cpu core</th>\n",
       "      <th>internal memory</th>\n",
       "      <th>ram</th>\n",
       "      <th>thickness</th>\n",
       "      <th>Price</th>\n",
       "      <th>fitted_value</th>\n",
       "      <th>Residual</th>\n",
       "    </tr>\n",
       "  </thead>\n",
       "  <tbody>\n",
       "    <tr>\n",
       "      <th>132</th>\n",
       "      <td>534.0</td>\n",
       "      <td>4</td>\n",
       "      <td>32.0</td>\n",
       "      <td>3.000</td>\n",
       "      <td>9.1</td>\n",
       "      <td>2466</td>\n",
       "      <td>2629.58</td>\n",
       "      <td>-163.58</td>\n",
       "    </tr>\n",
       "    <tr>\n",
       "      <th>142</th>\n",
       "      <td>424.0</td>\n",
       "      <td>4</td>\n",
       "      <td>16.0</td>\n",
       "      <td>3.000</td>\n",
       "      <td>7.3</td>\n",
       "      <td>2508</td>\n",
       "      <td>2507.00</td>\n",
       "      <td>1.00</td>\n",
       "    </tr>\n",
       "    <tr>\n",
       "      <th>143</th>\n",
       "      <td>424.0</td>\n",
       "      <td>4</td>\n",
       "      <td>16.0</td>\n",
       "      <td>3.000</td>\n",
       "      <td>7.3</td>\n",
       "      <td>2508</td>\n",
       "      <td>2507.00</td>\n",
       "      <td>1.00</td>\n",
       "    </tr>\n",
       "    <tr>\n",
       "      <th>117</th>\n",
       "      <td>401.0</td>\n",
       "      <td>8</td>\n",
       "      <td>32.0</td>\n",
       "      <td>4.000</td>\n",
       "      <td>8.0</td>\n",
       "      <td>3287</td>\n",
       "      <td>2946.63</td>\n",
       "      <td>340.37</td>\n",
       "    </tr>\n",
       "    <tr>\n",
       "      <th>8</th>\n",
       "      <td>233.0</td>\n",
       "      <td>2</td>\n",
       "      <td>4.0</td>\n",
       "      <td>0.512</td>\n",
       "      <td>11.0</td>\n",
       "      <td>1315</td>\n",
       "      <td>1303.50</td>\n",
       "      <td>11.50</td>\n",
       "    </tr>\n",
       "  </tbody>\n",
       "</table>\n",
       "</div>"
      ],
      "text/plain": [
       "       ppi  cpu core  internal memory    ram  thickness  Price  fitted_value  \\\n",
       "132  534.0         4             32.0  3.000        9.1   2466       2629.58   \n",
       "142  424.0         4             16.0  3.000        7.3   2508       2507.00   \n",
       "143  424.0         4             16.0  3.000        7.3   2508       2507.00   \n",
       "117  401.0         8             32.0  4.000        8.0   3287       2946.63   \n",
       "8    233.0         2              4.0  0.512       11.0   1315       1303.50   \n",
       "\n",
       "     Residual  \n",
       "132   -163.58  \n",
       "142      1.00  \n",
       "143      1.00  \n",
       "117    340.37  \n",
       "8       11.50  "
      ]
     },
     "execution_count": 381,
     "metadata": {},
     "output_type": "execute_result"
    }
   ],
   "source": [
    "import numpy as np\n",
    "train['fitted_value'] = np.round(Model3.predict(X_train),2)\n",
    "train['Residual'] = np.round(train.Price - train.fitted_value,2)\n",
    "train.head()"
   ]
  },
  {
   "cell_type": "code",
   "execution_count": 382,
   "id": "8ec5dc80",
   "metadata": {
    "scrolled": true
   },
   "outputs": [
    {
     "name": "stdout",
     "output_type": "stream",
     "text": [
      "R-Squared score for model Performance on Train :  95.0\n"
     ]
    }
   ],
   "source": [
    "from sklearn.metrics import r2_score\n",
    "r2 = r2_score(train.Price,train.fitted_value)\n",
    "print('R-Squared score for model Performance on Train : ', np.round(r2,2)*100)"
   ]
  },
  {
   "cell_type": "markdown",
   "id": "728fad5c",
   "metadata": {},
   "source": [
    "# Assumption of Linear Regression"
   ]
  },
  {
   "cell_type": "code",
   "execution_count": 383,
   "id": "9453beda",
   "metadata": {
    "scrolled": true
   },
   "outputs": [
    {
     "data": {
      "text/plain": [
       "<Axes: title={'center': 'Price vs Sale'}, xlabel='Sale', ylabel='Price'>"
      ]
     },
     "execution_count": 383,
     "metadata": {},
     "output_type": "execute_result"
    },
    {
     "data": {
      "image/png": "[encoded data removed]",
      "text/plain": [
       "<Figure size 640x480 with 1 Axes>"
      ]
     },
     "metadata": {},
     "output_type": "display_data"
    }
   ],
   "source": [
    "df.plot.scatter(x='Sale', y='Price', title='Price vs Sale')"
   ]
  },
  {
   "cell_type": "markdown",
   "id": "7cf45752",
   "metadata": {},
   "source": [
    "# Homoscedasicity"
   ]
  },
  {
   "cell_type": "code",
   "execution_count": 384,
   "id": "b088ab3b",
   "metadata": {},
   "outputs": [
    {
     "data": {
      "text/plain": [
       "<Axes: xlabel='fitted_value', ylabel='Residual'>"
      ]
     },
     "execution_count": 384,
     "metadata": {},
     "output_type": "execute_result"
    },
    {
     "data": {
      "image/png": "[encoded data removed]",
      "text/plain": [
       "<Figure size 640x480 with 1 Axes>"
      ]
     },
     "metadata": {},
     "output_type": "display_data"
    }
   ],
   "source": [
    "sns.scatterplot(x='fitted_value', y='Residual',data=train)"
   ]
  },
  {
   "cell_type": "code",
   "execution_count": 385,
   "id": "68a29473",
   "metadata": {},
   "outputs": [
    {
     "data": {
      "image/png": "[encoded data removed]",
      "text/plain": [
       "<Figure size 640x480 with 1 Axes>"
      ]
     },
     "metadata": {},
     "output_type": "display_data"
    }
   ],
   "source": [
    "import statsmodels.api as sm\n",
    "from matplotlib import pyplot as plt\n",
    "\n",
    "fig = sm.qqplot(train['Residual'], fit=True, line='s') # s indicate standardized line\n",
    "plt.show()"
   ]
  },
  {
   "cell_type": "code",
   "execution_count": 386,
   "id": "391cef15",
   "metadata": {
    "scrolled": true
   },
   "outputs": [
    {
     "data": {
      "text/plain": [
       "<Axes: ylabel='Frequency'>"
      ]
     },
     "execution_count": 386,
     "metadata": {},
     "output_type": "execute_result"
    },
    {
     "data": {
      "image/png": "[encoded data removed]",
      "text/plain": [
       "<Figure size 640x480 with 1 Axes>"
      ]
     },
     "metadata": {},
     "output_type": "display_data"
    }
   ],
   "source": [
    "train['Residual'].plot.hist()"
   ]
  },
  {
   "cell_type": "markdown",
   "id": "08ba6448",
   "metadata": {},
   "source": [
    "# Prediction on test"
   ]
  },
  {
   "cell_type": "code",
   "execution_count": 387,
   "id": "0fe0c3ec",
   "metadata": {},
   "outputs": [
    {
     "data": {
      "text/html": [
       "<div>\n",
       "<style scoped>\n",
       "    .dataframe tbody tr th:only-of-type {\n",
       "        vertical-align: middle;\n",
       "    }\n",
       "\n",
       "    .dataframe tbody tr th {\n",
       "        vertical-align: top;\n",
       "    }\n",
       "\n",
       "    .dataframe thead th {\n",
       "        text-align: right;\n",
       "    }\n",
       "</style>\n",
       "<table border=\"1\" class=\"dataframe\">\n",
       "  <thead>\n",
       "    <tr style=\"text-align: right;\">\n",
       "      <th></th>\n",
       "      <th>ppi</th>\n",
       "      <th>cpu core</th>\n",
       "      <th>internal memory</th>\n",
       "      <th>ram</th>\n",
       "      <th>thickness</th>\n",
       "    </tr>\n",
       "  </thead>\n",
       "  <tbody>\n",
       "    <tr>\n",
       "      <th>65</th>\n",
       "      <td>401.0</td>\n",
       "      <td>6</td>\n",
       "      <td>32.0</td>\n",
       "      <td>3.0</td>\n",
       "      <td>9.3</td>\n",
       "    </tr>\n",
       "    <tr>\n",
       "      <th>23</th>\n",
       "      <td>524.0</td>\n",
       "      <td>4</td>\n",
       "      <td>32.0</td>\n",
       "      <td>3.0</td>\n",
       "      <td>8.3</td>\n",
       "    </tr>\n",
       "    <tr>\n",
       "      <th>68</th>\n",
       "      <td>245.0</td>\n",
       "      <td>4</td>\n",
       "      <td>4.0</td>\n",
       "      <td>1.0</td>\n",
       "      <td>8.5</td>\n",
       "    </tr>\n",
       "    <tr>\n",
       "      <th>82</th>\n",
       "      <td>515.0</td>\n",
       "      <td>8</td>\n",
       "      <td>32.0</td>\n",
       "      <td>4.0</td>\n",
       "      <td>7.6</td>\n",
       "    </tr>\n",
       "    <tr>\n",
       "      <th>116</th>\n",
       "      <td>401.0</td>\n",
       "      <td>8</td>\n",
       "      <td>32.0</td>\n",
       "      <td>4.0</td>\n",
       "      <td>8.0</td>\n",
       "    </tr>\n",
       "  </tbody>\n",
       "</table>\n",
       "</div>"
      ],
      "text/plain": [
       "       ppi  cpu core  internal memory  ram  thickness\n",
       "65   401.0         6             32.0  3.0        9.3\n",
       "23   524.0         4             32.0  3.0        8.3\n",
       "68   245.0         4              4.0  1.0        8.5\n",
       "82   515.0         8             32.0  4.0        7.6\n",
       "116  401.0         8             32.0  4.0        8.0"
      ]
     },
     "execution_count": 387,
     "metadata": {},
     "output_type": "execute_result"
    }
   ],
   "source": [
    "X_test = X_test.loc[:,['ppi', 'cpu core', 'internal memory', 'ram', 'thickness']]\n",
    "X_test.head()"
   ]
  },
  {
   "cell_type": "code",
   "execution_count": 388,
   "id": "9c075115",
   "metadata": {},
   "outputs": [
    {
     "data": {
      "text/html": [
       "<div>\n",
       "<style scoped>\n",
       "    .dataframe tbody tr th:only-of-type {\n",
       "        vertical-align: middle;\n",
       "    }\n",
       "\n",
       "    .dataframe tbody tr th {\n",
       "        vertical-align: top;\n",
       "    }\n",
       "\n",
       "    .dataframe thead th {\n",
       "        text-align: right;\n",
       "    }\n",
       "</style>\n",
       "<table border=\"1\" class=\"dataframe\">\n",
       "  <thead>\n",
       "    <tr style=\"text-align: right;\">\n",
       "      <th></th>\n",
       "      <th>ppi</th>\n",
       "      <th>cpu core</th>\n",
       "      <th>internal memory</th>\n",
       "      <th>ram</th>\n",
       "      <th>thickness</th>\n",
       "      <th>Price</th>\n",
       "    </tr>\n",
       "  </thead>\n",
       "  <tbody>\n",
       "    <tr>\n",
       "      <th>65</th>\n",
       "      <td>401.0</td>\n",
       "      <td>6</td>\n",
       "      <td>32.0</td>\n",
       "      <td>3.0</td>\n",
       "      <td>9.3</td>\n",
       "      <td>2824</td>\n",
       "    </tr>\n",
       "    <tr>\n",
       "      <th>23</th>\n",
       "      <td>524.0</td>\n",
       "      <td>4</td>\n",
       "      <td>32.0</td>\n",
       "      <td>3.0</td>\n",
       "      <td>8.3</td>\n",
       "      <td>2744</td>\n",
       "    </tr>\n",
       "    <tr>\n",
       "      <th>68</th>\n",
       "      <td>245.0</td>\n",
       "      <td>4</td>\n",
       "      <td>4.0</td>\n",
       "      <td>1.0</td>\n",
       "      <td>8.5</td>\n",
       "      <td>1734</td>\n",
       "    </tr>\n",
       "    <tr>\n",
       "      <th>82</th>\n",
       "      <td>515.0</td>\n",
       "      <td>8</td>\n",
       "      <td>32.0</td>\n",
       "      <td>4.0</td>\n",
       "      <td>7.6</td>\n",
       "      <td>3005</td>\n",
       "    </tr>\n",
       "    <tr>\n",
       "      <th>116</th>\n",
       "      <td>401.0</td>\n",
       "      <td>8</td>\n",
       "      <td>32.0</td>\n",
       "      <td>4.0</td>\n",
       "      <td>8.0</td>\n",
       "      <td>3287</td>\n",
       "    </tr>\n",
       "  </tbody>\n",
       "</table>\n",
       "</div>"
      ],
      "text/plain": [
       "       ppi  cpu core  internal memory  ram  thickness  Price\n",
       "65   401.0         6             32.0  3.0        9.3   2824\n",
       "23   524.0         4             32.0  3.0        8.3   2744\n",
       "68   245.0         4              4.0  1.0        8.5   1734\n",
       "82   515.0         8             32.0  4.0        7.6   3005\n",
       "116  401.0         8             32.0  4.0        8.0   3287"
      ]
     },
     "execution_count": 388,
     "metadata": {},
     "output_type": "execute_result"
    }
   ],
   "source": [
    "test = pd.concat([X_test,y_test], axis=1)\n",
    "test.head()"
   ]
  },
  {
   "cell_type": "code",
   "execution_count": 389,
   "id": "71315c0d",
   "metadata": {
    "scrolled": true
   },
   "outputs": [
    {
     "data": {
      "text/html": [
       "<div>\n",
       "<style scoped>\n",
       "    .dataframe tbody tr th:only-of-type {\n",
       "        vertical-align: middle;\n",
       "    }\n",
       "\n",
       "    .dataframe tbody tr th {\n",
       "        vertical-align: top;\n",
       "    }\n",
       "\n",
       "    .dataframe thead th {\n",
       "        text-align: right;\n",
       "    }\n",
       "</style>\n",
       "<table border=\"1\" class=\"dataframe\">\n",
       "  <thead>\n",
       "    <tr style=\"text-align: right;\">\n",
       "      <th></th>\n",
       "      <th>ppi</th>\n",
       "      <th>cpu core</th>\n",
       "      <th>internal memory</th>\n",
       "      <th>ram</th>\n",
       "      <th>thickness</th>\n",
       "      <th>Price</th>\n",
       "      <th>Prediction</th>\n",
       "      <th>Error / Residual</th>\n",
       "    </tr>\n",
       "  </thead>\n",
       "  <tbody>\n",
       "    <tr>\n",
       "      <th>65</th>\n",
       "      <td>401.0</td>\n",
       "      <td>6</td>\n",
       "      <td>32.0</td>\n",
       "      <td>3.0</td>\n",
       "      <td>9.3</td>\n",
       "      <td>2824</td>\n",
       "      <td>2550.05</td>\n",
       "      <td>273.95</td>\n",
       "    </tr>\n",
       "    <tr>\n",
       "      <th>23</th>\n",
       "      <td>524.0</td>\n",
       "      <td>4</td>\n",
       "      <td>32.0</td>\n",
       "      <td>3.0</td>\n",
       "      <td>8.3</td>\n",
       "      <td>2744</td>\n",
       "      <td>2680.87</td>\n",
       "      <td>63.13</td>\n",
       "    </tr>\n",
       "    <tr>\n",
       "      <th>68</th>\n",
       "      <td>245.0</td>\n",
       "      <td>4</td>\n",
       "      <td>4.0</td>\n",
       "      <td>1.0</td>\n",
       "      <td>8.5</td>\n",
       "      <td>1734</td>\n",
       "      <td>1717.46</td>\n",
       "      <td>16.54</td>\n",
       "    </tr>\n",
       "    <tr>\n",
       "      <th>82</th>\n",
       "      <td>515.0</td>\n",
       "      <td>8</td>\n",
       "      <td>32.0</td>\n",
       "      <td>4.0</td>\n",
       "      <td>7.6</td>\n",
       "      <td>3005</td>\n",
       "      <td>3125.69</td>\n",
       "      <td>-120.69</td>\n",
       "    </tr>\n",
       "    <tr>\n",
       "      <th>116</th>\n",
       "      <td>401.0</td>\n",
       "      <td>8</td>\n",
       "      <td>32.0</td>\n",
       "      <td>4.0</td>\n",
       "      <td>8.0</td>\n",
       "      <td>3287</td>\n",
       "      <td>2946.63</td>\n",
       "      <td>340.37</td>\n",
       "    </tr>\n",
       "  </tbody>\n",
       "</table>\n",
       "</div>"
      ],
      "text/plain": [
       "       ppi  cpu core  internal memory  ram  thickness  Price  Prediction  \\\n",
       "65   401.0         6             32.0  3.0        9.3   2824     2550.05   \n",
       "23   524.0         4             32.0  3.0        8.3   2744     2680.87   \n",
       "68   245.0         4              4.0  1.0        8.5   1734     1717.46   \n",
       "82   515.0         8             32.0  4.0        7.6   3005     3125.69   \n",
       "116  401.0         8             32.0  4.0        8.0   3287     2946.63   \n",
       "\n",
       "     Error / Residual  \n",
       "65             273.95  \n",
       "23              63.13  \n",
       "68              16.54  \n",
       "82            -120.69  \n",
       "116            340.37  "
      ]
     },
     "execution_count": 389,
     "metadata": {},
     "output_type": "execute_result"
    }
   ],
   "source": [
    "import numpy as np\n",
    "test['Prediction'] = np.round(Model3.predict(X_test),2)\n",
    "test['Error / Residual'] = np.round(test.Price - test.Prediction,2)\n",
    "test.head()"
   ]
  },
  {
   "cell_type": "markdown",
   "id": "666011bc",
   "metadata": {},
   "source": [
    "# Comparision"
   ]
  },
  {
   "cell_type": "code",
   "execution_count": 390,
   "id": "67f462e6",
   "metadata": {},
   "outputs": [
    {
     "name": "stdout",
     "output_type": "stream",
     "text": [
      "R-Squared score for model Performance on Train :  95.0\n"
     ]
    }
   ],
   "source": [
    "from sklearn.metrics import r2_score\n",
    "r2 = r2_score(train.Price,train.fitted_value)\n",
    "print('R-Squared score for model Performance on Train : ', np.round(r2,2)*100)"
   ]
  },
  {
   "cell_type": "code",
   "execution_count": 391,
   "id": "8cadf8bd",
   "metadata": {
    "scrolled": true
   },
   "outputs": [
    {
     "name": "stdout",
     "output_type": "stream",
     "text": [
      "R-Squared score for model Performance on Test :  91.0\n"
     ]
    }
   ],
   "source": [
    "r2 = r2_score(test.Price,test.Prediction)\n",
    "print('R-Squared score for model Performance on Test : ', np.round(r2,2)*100)"
   ]
  },
  {
   "cell_type": "markdown",
   "id": "efe8a986",
   "metadata": {},
   "source": [
    "# Loss Function - RMSE"
   ]
  },
  {
   "cell_type": "code",
   "execution_count": 392,
   "id": "4b80af5c",
   "metadata": {},
   "outputs": [
    {
     "name": "stdout",
     "output_type": "stream",
     "text": [
      "RMSE of Train Data :  183.21\n"
     ]
    }
   ],
   "source": [
    "from sklearn.metrics import mean_squared_error \n",
    "\n",
    "model_mse = mean_squared_error(train['Price'],train['fitted_value'])\n",
    "model_rmse = np.sqrt(model_mse)\n",
    "\n",
    "print(\"RMSE of Train Data : \",np.round(model_rmse,2)) #21"
   ]
  },
  {
   "cell_type": "code",
   "execution_count": 393,
   "id": "f29d3108",
   "metadata": {},
   "outputs": [
    {
     "name": "stdout",
     "output_type": "stream",
     "text": [
      "RMSE of Test Data :  208.19\n"
     ]
    }
   ],
   "source": [
    "model_mse = mean_squared_error(test['Price'],test['Prediction'])\n",
    "model_rmse = np.sqrt(model_mse)\n",
    "\n",
    "print(\"RMSE of Test Data : \",np.round(model_rmse,2)) #21"
   ]
  }
 ],
 "metadata": {
  "kernelspec": {
   "display_name": "Python 3 (ipykernel)",
   "language": "python",
   "name": "python3"
  },
  "language_info": {
   "codemirror_mode": {
    "name": "ipython",
    "version": 3
   },
   "file_extension": ".py",
   "mimetype": "text/x-python",
   "name": "python",
   "nbconvert_exporter": "python",
   "pygments_lexer": "ipython3",
   "version": "3.11.5"
  }
 },
 "nbformat": 4,
 "nbformat_minor": 5
}
